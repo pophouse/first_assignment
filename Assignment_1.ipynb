{
 "cells": [
  {
   "cell_type": "markdown",
   "id": "fb696e57-c229-4e00-bd9f-5df3a9f583fd",
   "metadata": {},
   "source": [
    "# Assignment"
   ]
  },
  {
   "cell_type": "markdown",
   "id": "0b1a1f72-b63d-4512-bf1c-9ec1115e8f3c",
   "metadata": {},
   "source": [
    "##### Instructions\n",
    "\n",
    "`Read the question carefully`: Ensure you fully understand the problem before starting.\n",
    "\n",
    "`Write your code`: Enter your solution in the cell provided directly below the question, where it says `# Write your code here`.\n",
    "\n",
    "`Test your function`: Each question includes a `function call` that allows you to test your solution. If you're unsure, refer back to the notebook for guidance.\n",
    "\n",
    "`Rename your notebook`: Once completed, rename your notebook using your name in the following format: `YourName_Assignment` (e.g., Kene_Assignment).\n",
    "\n",
    "`Submit your work`: Send the renamed notebook to me via DM.\n",
    "\n",
    "Good luck!"
   ]
  },
  {
   "cell_type": "markdown",
   "id": "d7ac871a-e97f-4855-a02f-0fef4952e118",
   "metadata": {},
   "source": [
    "### Question 1 \n",
    "Write a Python program that checks if a number is `even` or `odd`.\n",
    "\n",
    "Hint: Use the modulus operator `%` to determine the remainder when dividing by `2`."
   ]
  },
  {
   "cell_type": "code",
   "execution_count": 40,
   "id": "78312b51-047d-4c8b-8e06-323f5484416d",
   "metadata": {},
   "outputs": [
    {
     "name": "stdin",
     "output_type": "stream",
     "text": [
      "Enter a number:  6\n"
     ]
    },
    {
     "name": "stdout",
     "output_type": "stream",
     "text": [
      "number even\n"
     ]
    }
   ],
   "source": [
    "# write your code here\n",
    "number = float(input(\"Enter a number: \"))\n",
    "if number % 2 == 0:\n",
    "      print(\"number even\")\n",
    "else:\n",
    "       print(\"number odd\")\n",
    "\n"
   ]
  },
  {
   "cell_type": "markdown",
   "id": "b40b3533-65e8-418d-93f9-8412c85504a3",
   "metadata": {},
   "source": [
    "### Question 2 \n",
    "Write a program that asks the user for a temperature in `Celsius` and converts it to `Fahrenheit`. If the temperature is below 0°C, print `Freezing point`.\n",
    "\n",
    "Hint: The formula for conversion is `(Celsius * 9/5) + 32`."
   ]
  },
  {
   "cell_type": "code",
   "execution_count": 31,
   "id": "6cb19940-0888-4204-80bb-3c9185a5ec09",
   "metadata": {},
   "outputs": [
    {
     "name": "stdin",
     "output_type": "stream",
     "text": [
      "Enter s decimal temperature number:  -5.6\n"
     ]
    },
    {
     "name": "stdout",
     "output_type": "stream",
     "text": [
      "21.92\n",
      "freezing point\n"
     ]
    }
   ],
   "source": [
    "# write your code here\n",
    "temp_c = float(input(\"Enter s decimal temperature number: \"))\n",
    "\n",
    "temp_f = (temp_c * 9/5) + 32\n",
    "print(temp_f)\n",
    "\n",
    "if temp_c < 0:\n",
    "    print(\"freezing point\")\n"
   ]
  },
  {
   "cell_type": "markdown",
   "id": "e539a6fa-3c98-45d8-8215-f34f643e2136",
   "metadata": {},
   "source": [
    "### Question 3\n",
    "Write a Python program to check if a number is `positive`, `negative`, or `zero`.\n",
    "\n",
    "Hint: Use an if-elif-else structure to handle the three possible conditions."
   ]
  },
  {
   "cell_type": "code",
   "execution_count": 33,
   "id": "14f2c408-f2ed-416a-8ed4-78e53f8bce6f",
   "metadata": {},
   "outputs": [
    {
     "name": "stdin",
     "output_type": "stream",
     "text": [
      "Enter a number:  -1\n"
     ]
    },
    {
     "name": "stdout",
     "output_type": "stream",
     "text": [
      "negative\n"
     ]
    }
   ],
   "source": [
    "# write your code here\n",
    "number = int(input(\"Enter a number: \"))\n",
    "if number >0:\n",
    "       print(\"positive\")\n",
    "elif number <0:  \n",
    "        print(\"negative\")\n",
    "else:\n",
    "        print(\"zero\")\n"
   ]
  },
  {
   "cell_type": "markdown",
   "id": "78d7be36-e932-4947-b539-3dad4fe547eb",
   "metadata": {},
   "source": [
    "### Question 4\n",
    "Write a Python program that prints all the numbers from 1 to 50, but for multiples of 3, print `Fizz` instead of the number, and for multiples of 5, print `Buzz`. For numbers that are multiples of both 3 and 5, print `FizzBuzz`.\n",
    "\n",
    "Hint: Use a for loop and conditional statements inside the loop."
   ]
  },
  {
   "cell_type": "code",
   "execution_count": 50,
   "id": "673bf52b-b4f4-4fcb-a543-2224e43dbe01",
   "metadata": {},
   "outputs": [
    {
     "name": "stdout",
     "output_type": "stream",
     "text": [
      "1\n",
      "2\n",
      "Fizz\n",
      "4\n",
      "Buzz\n",
      "Fizz\n",
      "7\n",
      "8\n",
      "Fizz\n",
      "Buzz\n",
      "11\n",
      "Fizz\n",
      "13\n",
      "14\n",
      "FizzBuzz\n",
      "16\n",
      "17\n",
      "Fizz\n",
      "19\n",
      "Buzz\n",
      "Fizz\n",
      "22\n",
      "23\n",
      "Fizz\n",
      "Buzz\n",
      "26\n",
      "Fizz\n",
      "28\n",
      "29\n",
      "FizzBuzz\n",
      "31\n",
      "32\n",
      "Fizz\n",
      "34\n",
      "Buzz\n",
      "Fizz\n",
      "37\n",
      "38\n",
      "Fizz\n",
      "Buzz\n",
      "41\n",
      "Fizz\n",
      "43\n",
      "44\n",
      "FizzBuzz\n",
      "46\n",
      "47\n",
      "Fizz\n",
      "49\n",
      "Buzz\n"
     ]
    }
   ],
   "source": [
    "# write your code here\n",
    "for i in range(1, 51):\n",
    "   if i % 3 == 0 and i % 5 == 0:\n",
    "     print(\"FizzBuzz\")\n",
    "   elif i % 5 == 0:\n",
    "     print(\"Buzz\")\n",
    "   elif i % 3 == 0:\n",
    "     print(\"Fizz\")\n",
    "   else:\n",
    "    print(i)\n"
   ]
  },
  {
   "cell_type": "raw",
   "id": "e01080fd-d774-44fd-a950-e62d660ee6a8",
   "metadata": {},
   "source": [
    "retur"
   ]
  },
  {
   "cell_type": "markdown",
   "id": "692604c6-b072-476e-9833-ec48437fbae4",
   "metadata": {},
   "source": [
    "### Question 5\n",
    "Create a program that `asks` the user for a number and prints the `multiplication table` for that number `(up to 10)`.\n",
    "\n",
    "Hint: Use a for loop to iterate through the numbers 1 to 10."
   ]
  },
  {
   "cell_type": "code",
   "execution_count": 3,
   "id": "16de9b6a-3c7d-4811-84d9-f182852feffc",
   "metadata": {},
   "outputs": [
    {
     "name": "stdin",
     "output_type": "stream",
     "text": [
      "enter the number 6\n"
     ]
    },
    {
     "name": "stdout",
     "output_type": "stream",
     "text": [
      "6 x 1 = 6\n",
      "6 x 2 = 12\n",
      "6 x 3 = 18\n",
      "6 x 4 = 24\n",
      "6 x 5 = 30\n",
      "6 x 6 = 36\n",
      "6 x 7 = 42\n",
      "6 x 8 = 48\n",
      "6 x 9 = 54\n",
      "6 x 10 = 60\n"
     ]
    }
   ],
   "source": [
    "# write your code here\n",
    "#. Take input from the user as x\n",
    "#. loop through 1-10\n",
    "#. inside the loop multiply x times each number (i) save the result as y\n",
    "#.print x * i =y\n",
    "\n",
    "num =int(input(\"enter the number\"))\n",
    "for i in range(1, 11):\n",
    "    y = num*i\n",
    "    print(f\"{num} x {i} = {y}\")\n",
    "\n",
    "\n"
   ]
  },
  {
   "cell_type": "markdown",
   "id": "e1db055c-0ae4-4383-a41c-dca51f10bb8a",
   "metadata": {},
   "source": [
    "### Question 6\n",
    "\n",
    "Write a program that `asks` the user for `5 numbers` and then `finds` and `prints` the `smallest number`."
   ]
  },
  {
   "cell_type": "code",
   "execution_count": 32,
   "id": "6141a1b7-0307-4398-82d2-bcc5b3143621",
   "metadata": {},
   "outputs": [
    {
     "name": "stdin",
     "output_type": "stream",
     "text": [
      "enter the first number: 5\n",
      "enter the second number: 3\n",
      "enter the third number: 2\n",
      "enter the fourth number: 1\n",
      "enter the fifth number: 4\n"
     ]
    },
    {
     "name": "stdout",
     "output_type": "stream",
     "text": [
      "[5, 3, 2, 1, 4]\n",
      "smallest numbers = 1\n"
     ]
    }
   ],
   "source": [
    "# write your code here\n",
    "\n",
    "A = int(input(\"enter the first number:\"))\n",
    "B = int(input(\"enter the second number:\"))\n",
    "C = int(input(\"enter the third number:\"))\n",
    "D = int(input(\"enter the fourth number:\"))\n",
    "E = int(input(\"enter the fifth number:\"))\n",
    "\n",
    "list_of_numbers = [A, B, C, D, E]\n",
    "print(list_of_numbers)\n",
    "list_of_numbers.sort()\n",
    "print(f\"smallest numbers = {list_of_numbers[0]}\")\n",
    "\n",
    "  #smallest numbers = 1"
   ]
  },
  {
   "cell_type": "markdown",
   "id": "90a2bb8f-caec-4e95-90c7-80f0308d547b",
   "metadata": {},
   "source": [
    "# Question 7\n",
    "Write a function `is_even(n)` that returns `True` if a number is even, and `False` otherwise.\n",
    "\n",
    "Hint: The function should return the result of the condition `n % 2 == 0`."
   ]
  },
  {
   "cell_type": "code",
   "execution_count": null,
   "id": "160e2dfb-bb8a-4de8-bfe4-4a11cde95ce4",
   "metadata": {},
   "outputs": [],
   "source": [
    "# write your code here\n"
   ]
  },
  {
   "cell_type": "code",
   "execution_count": null,
   "id": "9c970a5a-6b57-48a3-be98-923457541c6b",
   "metadata": {},
   "outputs": [],
   "source": [
    "# is_even(78) is function call to test the about function\n",
    "\n",
    "is_even(78)"
   ]
  },
  {
   "cell_type": "markdown",
   "id": "08631e66-d2e6-4f3b-bc33-fadc673d4beb",
   "metadata": {},
   "source": [
    "### Question 8\n",
    "Write a function `count_vowels(s)` that returns the number of vowels in a given string.\n",
    "\n",
    "Hint: Use a loop to iterate through the string and count characters that are vowels."
   ]
  },
  {
   "cell_type": "code",
   "execution_count": 27,
   "id": "8cb6cff9-0e89-4a10-8055-78cf5c635bd1",
   "metadata": {},
   "outputs": [],
   "source": [
    "# write your code here\n",
    "def count_vowels(s):\n",
    "    count = 0\n",
    "    for i in s:\n",
    "        if i in (\"a\", \"e\", \"i\", \"o\", \"u\"):\n",
    "            count = count + 1\n",
    "    return count\n",
    "   \n",
    "    "
   ]
  },
  {
   "cell_type": "markdown",
   "id": "d464bb95-d68c-4e44-b4e1-54289bacef02",
   "metadata": {},
   "source": [
    "# count_vowels(education) is function call to test the above function\n",
    "\n",
    "count_vowels(\"education\")\n"
   ]
  },
  {
   "cell_type": "markdown",
   "id": "f9479533-d293-419e-9eb9-192c224ca305",
   "metadata": {},
   "source": [
    "# Question 9\n",
    "Create a function `calculate_area()` that asks the user for the radius of a circle and returns the area of the circle.\n",
    "\n",
    "\n",
    "Hint: Use the formula `area = π * r^2`. The value of π can be approximated as `3.14159`."
   ]
  },
  {
   "cell_type": "code",
   "execution_count": 36,
   "id": "6f4441c6-da13-4634-8200-2c257a6fd988",
   "metadata": {},
   "outputs": [],
   "source": [
    "# write your code here\n",
    "def calculate_area(r):\n",
    "    area = 3.14159 * (r**2)\n",
    "    return area\n"
   ]
  },
  {
   "cell_type": "code",
   "execution_count": 38,
   "id": "ffe5dcb4-39a1-43d5-a6f8-47b20411029f",
   "metadata": {},
   "outputs": [
    {
     "data": {
      "text/plain": [
       "78.53975"
      ]
     },
     "execution_count": 38,
     "metadata": {},
     "output_type": "execute_result"
    }
   ],
   "source": [
    "# calculate_area() is function call to test the above function\n",
    "\n",
    "calculate_area(5)"
   ]
  },
  {
   "cell_type": "markdown",
   "id": "49213d9f-20e5-441c-8e08-09e264ff902f",
   "metadata": {},
   "source": [
    "# Question 10\n",
    "Write a function find_max() that takes a list of numbers as input and returns the largest number.\n",
    "\n",
    "Hint: Use a loop to compare each element with the current maximum."
   ]
  },
  {
   "cell_type": "code",
   "execution_count": 3,
   "id": "08cde890-b290-4a2b-977f-0d75d0a7eaa1",
   "metadata": {},
   "outputs": [],
   "source": [
    "# write your code here\n",
    "def find_max(numbers):\n",
    "    if len(numbers) == 0:\n",
    "        return None\n",
    "    max = numbers[0]\n",
    "    for num in numbers[1:]:\n",
    "        if num  > max:\n",
    "            max = num\n",
    "            \n",
    "    return max"
   ]
  },
  {
   "cell_type": "code",
   "execution_count": 4,
   "id": "9abb1b7f-3005-4cfc-98bf-6ccd88c67b52",
   "metadata": {},
   "outputs": [
    {
     "name": "stdin",
     "output_type": "stream",
     "text": [
      "Enter your numbers 23456789\n"
     ]
    },
    {
     "data": {
      "text/plain": [
       "'9'"
      ]
     },
     "execution_count": 4,
     "metadata": {},
     "output_type": "execute_result"
    }
   ],
   "source": [
    "## # find_max()  is function call to test the above function\n",
    "\n",
    "find_max(list(input(\"Enter your numbers\")))"
   ]
  },
  {
   "cell_type": "code",
   "execution_count": null,
   "id": "53ac63ae-3eae-4887-95b0-37e6daa2b419",
   "metadata": {},
   "outputs": [],
   "source": []
  },
  {
   "cell_type": "code",
   "execution_count": 36,
   "id": "7ae5a092-9aa0-4abe-bfa6-fc20359b2e5d",
   "metadata": {},
   "outputs": [
    {
     "ename": "SyntaxError",
     "evalue": "invalid syntax (3156928636.py, line 2)",
     "output_type": "error",
     "traceback": [
      "\u001b[1;36m  Cell \u001b[1;32mIn[36], line 2\u001b[1;36m\u001b[0m\n\u001b[1;33m    b = int(input(\"Tell me another number:\"))  print(a/b)\u001b[0m\n\u001b[1;37m                                               ^\u001b[0m\n\u001b[1;31mSyntaxError\u001b[0m\u001b[1;31m:\u001b[0m invalid syntax\n"
     ]
    }
   ],
   "source": [
    "    a = int(input(\"Tell me one number:\"))\n",
    "    b = int(input(\"Tell me another number:\"))  print(a/b)  \n",
    "    print(a/b)\n"
   ]
  },
  {
   "cell_type": "code",
   "execution_count": 4,
   "id": "5a6098dd-b0af-4a78-9d2d-665d82abd494",
   "metadata": {},
   "outputs": [],
   "source": [
    "# let create an object called calculator\n",
    "class Calculator():\n",
    "    def __init__(self, x, y):\n",
    "        self.x = x\n",
    "        self. y = y\n",
    "    def add(self, z):\n",
    "          return self.x + z\n",
    "    def sub(self, t):\n",
    "          return self.x - t\n",
    "    def div(self, a):\n",
    "          return self.x / a\n",
    "    def mul(self, b):\n",
    "          return self.x *b\n",
    "\n",
    "    "
   ]
  },
  {
   "cell_type": "code",
   "execution_count": 2,
   "id": "06bd0950-7a12-4e6b-bd60-85217e3b7f0e",
   "metadata": {},
   "outputs": [],
   "source": [
    "# instantiating a class\n",
    "c = Calculator(3,7)"
   ]
  },
  {
   "cell_type": "code",
   "execution_count": 5,
   "id": "afbb1d5e-374e-41c2-9bbc-704e50d16b9b",
   "metadata": {},
   "outputs": [
    {
     "data": {
      "text/plain": [
       "0.3333333333333333"
      ]
     },
     "execution_count": 5,
     "metadata": {},
     "output_type": "execute_result"
    }
   ],
   "source": [
    "c.div(9)"
   ]
  },
  {
   "cell_type": "code",
   "execution_count": 6,
   "id": "aad763b1-626d-48a7-ab16-06407d3d4b58",
   "metadata": {},
   "outputs": [
    {
     "data": {
      "text/plain": [
       "9"
      ]
     },
     "execution_count": 6,
     "metadata": {},
     "output_type": "execute_result"
    }
   ],
   "source": [
    "c.add(6)"
   ]
  },
  {
   "cell_type": "code",
   "execution_count": 7,
   "id": "797f1bbb-5c7a-42c2-a987-27453fa7ac2c",
   "metadata": {},
   "outputs": [
    {
     "data": {
      "text/plain": [
       "-6"
      ]
     },
     "execution_count": 7,
     "metadata": {},
     "output_type": "execute_result"
    }
   ],
   "source": [
    "c.sub(9)"
   ]
  },
  {
   "cell_type": "code",
   "execution_count": null,
   "id": "4dc3d033-c2a0-4820-a787-f4c471375f05",
   "metadata": {},
   "outputs": [],
   "source": []
  }
 ],
 "metadata": {
  "kernelspec": {
   "display_name": "Python 3 (ipykernel)",
   "language": "python",
   "name": "python3"
  },
  "language_info": {
   "codemirror_mode": {
    "name": "ipython",
    "version": 3
   },
   "file_extension": ".py",
   "mimetype": "text/x-python",
   "name": "python",
   "nbconvert_exporter": "python",
   "pygments_lexer": "ipython3",
   "version": "3.12.4"
  }
 },
 "nbformat": 4,
 "nbformat_minor": 5
}
